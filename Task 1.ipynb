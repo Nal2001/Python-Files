{
 "cells": [
  {
   "cell_type": "code",
   "execution_count": null,
   "metadata": {
    "tags": []
   },
   "outputs": [],
   "source": [
    "    1. Create an empty dictionary, a list of countries, a list of respective capitals, a tuple of respective currencies and \n",
    "       a set of length of name of countries\n",
    "    2. Add the created list of countries, a list of respective capitals, a tuple of respective currencies and \n",
    "       a set of  length of name of countries to the empty dictionary"
   ]
  },
  {
   "cell_type": "code",
   "execution_count": 1,
   "metadata": {},
   "outputs": [
    {
     "data": {
      "text/plain": [
       "{'country_list': ['USA', 'China', 'Japan', 'Germany', 'India'],\n",
       " 'capital_list': ['Washington D.C.',\n",
       "  'Beijing',\n",
       "  'Tokyo',\n",
       "  'Berlin',\n",
       "  'New Delhi'],\n",
       " 'currency_tuple': ('Dollar', 'Chinese Yuan', 'Yen', 'Euro', 'Ruppees'),\n",
       " 'country_length': {3, 5, 7}}"
      ]
     },
     "execution_count": 1,
     "metadata": {},
     "output_type": "execute_result"
    }
   ],
   "source": [
    "empt_dictionary={}\n",
    "country_list=[\"USA\", \"China\", \"Japan\", \"Germany\",\"India\"]\n",
    "capital_list=[\"Washington D.C.\",\"Beijing\",\"Tokyo\",\"Berlin\",\"New Delhi\"]\n",
    "currency_tuple=(\"Dollar\",\"Chinese Yuan\",\"Yen\",\"Euro\",\"Ruppees\")\n",
    "country_length={len(country) for country in country_list}\n",
    "\n",
    "\n",
    "empt_dictionary[\"country_list\"]=country_list\n",
    "empt_dictionary[\"capital_list\"]=capital_list\n",
    "empt_dictionary[\"currency_tuple\"]=currency_tuple\n",
    "empt_dictionary[\"country_length\"]=country_length\n",
    "\n",
    "empt_dictionary\n",
    "\n",
    "\n",
    "\n"
   ]
  },
  {
   "cell_type": "code",
   "execution_count": null,
   "metadata": {},
   "outputs": [],
   "source": []
  }
 ],
 "metadata": {
  "kernelspec": {
   "display_name": "Python 3",
   "language": "python",
   "name": "python3"
  },
  "language_info": {
   "codemirror_mode": {
    "name": "ipython",
    "version": 3
   },
   "file_extension": ".py",
   "mimetype": "text/x-python",
   "name": "python",
   "nbconvert_exporter": "python",
   "pygments_lexer": "ipython3",
   "version": "3.7.6"
  }
 },
 "nbformat": 4,
 "nbformat_minor": 4
}
