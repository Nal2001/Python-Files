{
  "nbformat": 4,
  "nbformat_minor": 0,
  "metadata": {
    "colab": {
      "provenance": [],
      "authorship_tag": "ABX9TyNJ9SXpJzRdxVIToyPilRIs",
      "include_colab_link": true
    },
    "kernelspec": {
      "name": "python3",
      "display_name": "Python 3"
    },
    "language_info": {
      "name": "python"
    }
  },
  "cells": [
    {
      "cell_type": "markdown",
      "metadata": {
        "id": "view-in-github",
        "colab_type": "text"
      },
      "source": [
        "<a href=\"https://colab.research.google.com/github/Nal2001/Python-Files/blob/main/Day2_Task2.ipynb\" target=\"_parent\"><img src=\"https://colab.research.google.com/assets/colab-badge.svg\" alt=\"Open In Colab\"/></a>"
      ]
    },
    {
      "cell_type": "markdown",
      "source": [
        "Create a list of 10 employees\n",
        "\n",
        "Create tuple of salaries of these 10 employees\n",
        "\n",
        "Create a tuple of rating of these 10 employees ( 0 - 10 )\n",
        "\n",
        "Generate a dictionary of employees and their new salaries based on their ratings The update to salaries should be as\n",
        "\n",
        "a. For rating 0 - 3 no salaries should be updated\n",
        "\n",
        "b. For rating 3 - 5 a 3% increment to be given\n",
        "\n",
        "c. For rating 5 - 7 a 5% increment to be given\n",
        "\n",
        "d. For rating 7 - 9 a 7% increment to be given\n",
        "\n",
        "e. For rating 9 and above a 7% increment and a bonus of 10% of initial salary to be given"
      ],
      "metadata": {
        "id": "9y4eYxRLzsKe"
      }
    },
    {
      "cell_type": "code",
      "source": [
        "# Create a list of 10 employees\n",
        "employees = ['Employee1', 'Employee2', 'Employee3', 'Employee4', 'Employee5', 'Employee6', 'Employee7', 'Employee8', 'Employee9', 'Employee10']\n",
        "\n",
        "# Create a tuple of salaries for these 10 employees\n",
        "salaries = (10000,20000,30000,40000,50000,60000,70000,80000,90000,100000)\n",
        "\n",
        "# Create a tuple of ratings for these 10 employees (0-10)\n",
        "ratings = (7, 3, 6, 2, 9, 5, 8, 4, 1, 10)\n",
        "\n",
        "# Generate a dictionary of employees and their new salaries based on ratings\n",
        "updated_salaries = {}\n",
        "for i in range(len(employees)):\n",
        "    employee = employees[i]\n",
        "    salary = salaries[i]\n",
        "    rating = ratings[i]\n",
        "    if rating >= 0 and rating <= 3:\n",
        "        updated_salaries[employee] = salary\n",
        "    elif rating <= 5:\n",
        "        updated_salaries[employee] = salary * 1.03  # 3% increment\n",
        "    elif rating <= 7:\n",
        "        updated_salaries[employee] = salary * 1.05  # 5% increment\n",
        "    elif rating <= 9:\n",
        "        updated_salaries[employee] = salary * 1.07  # 7% increment\n",
        "    else:\n",
        "        updated_salaries[employee] = salary * 1.17  # 7% increment + 10% bonus\n",
        "\n",
        "# Print the updated salaries\n",
        "for employee, new_salary in updated_salaries.items():\n",
        "    print(f\"{employee}: New Salary - {new_salary:.2f}\")"
      ],
      "metadata": {
        "colab": {
          "base_uri": "https://localhost:8080/"
        },
        "id": "GHKBaaif3iEl",
        "outputId": "3e370697-0630-4ba9-f9e5-47ce11ab7955"
      },
      "execution_count": 5,
      "outputs": [
        {
          "output_type": "stream",
          "name": "stdout",
          "text": [
            "Employee1: New Salary - 10500.00\n",
            "Employee2: New Salary - 20000.00\n",
            "Employee3: New Salary - 31500.00\n",
            "Employee4: New Salary - 40000.00\n",
            "Employee5: New Salary - 53500.00\n",
            "Employee6: New Salary - 61800.00\n",
            "Employee7: New Salary - 74900.00\n",
            "Employee8: New Salary - 82400.00\n",
            "Employee9: New Salary - 90000.00\n",
            "Employee10: New Salary - 117000.00\n"
          ]
        }
      ]
    },
    {
      "cell_type": "code",
      "source": [
        "list1 = [1, 4, -9, -5.2, 8.5, 10]\n",
        "list2 = [10, 5, -3, 2, 0.5, 1.3]\n",
        "list3 = ['+', '*', '-', '*', '/', '+']\n",
        "\n",
        "result = []\n",
        "\n",
        "for i in range(len(list1)):\n",
        "    if list3[i] == '+':\n",
        "        result.append(list1[i] + list2[i])\n",
        "    elif list3[i] == '-':\n",
        "        result.append(list1[i] - list2[i])\n",
        "    elif list3[i] == '*':\n",
        "        result.append(list1[i] * list2[i])\n",
        "    elif list3[i] == '/':\n",
        "        # Make sure to handle division by zero\n",
        "        if list2[i] != 0:\n",
        "            result.append(list1[i] / list2[i])\n",
        "        else:\n",
        "            result.append(\"Division by zero\")\n",
        "    else:\n",
        "        result.append(\"Invalid operation\")\n",
        "\n",
        "print(result)"
      ],
      "metadata": {
        "colab": {
          "base_uri": "https://localhost:8080/"
        },
        "id": "DjCP30sA5HfA",
        "outputId": "2652af5f-fe6a-41bc-e792-fe8a5c862ed4"
      },
      "execution_count": 7,
      "outputs": [
        {
          "output_type": "stream",
          "name": "stdout",
          "text": [
            "[11, 20, -6, -10.4, 17.0, 11.3]\n"
          ]
        }
      ]
    },
    {
      "cell_type": "code",
      "source": [],
      "metadata": {
        "id": "6Zg4HpmD5VYw"
      },
      "execution_count": null,
      "outputs": []
    }
  ]
}